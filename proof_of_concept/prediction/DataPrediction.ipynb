{
 "cells": [
  {
   "cell_type": "code",
   "execution_count": 56,
   "id": "adolescent-columbia",
   "metadata": {},
   "outputs": [],
   "source": [
    "from mongoengine import *\n",
    "import numpy as np\n",
    "import datetime \n",
    "import pandas\n",
    "from sklearn import *"
   ]
  },
  {
   "cell_type": "code",
   "execution_count": 57,
   "id": "forty-plastic",
   "metadata": {},
   "outputs": [],
   "source": [
    "connect(\"GDP-test\", host = \"localhost\", port = 27017)\n",
    "class Detection(Document):\n",
    "    id_webcam = IntField(required=True)\n",
    "    city = StringField(required=True)\n",
    "    location = StringField(required=True)\n",
    "    latitude = FloatField(required=True)\n",
    "    longitude = FloatField(required=True)\n",
    "    numPeople = IntField(required=True)\n",
    "    date = DateTimeField(required=True)\n",
    "    time = DateTimeField(required=True)\n",
    "    type = IntField(required=True)\n",
    "    weather_description = StringField()\n",
    "    temperature = FloatField()\n",
    "    day_of_week = IntField()"
   ]
  },
  {
   "cell_type": "code",
   "execution_count": 68,
   "id": "signal-manor",
   "metadata": {},
   "outputs": [
    {
     "name": "stdout",
     "output_type": "stream",
     "text": [
      "                        _id  id_webcam  city      location   latitude  \\\n",
      "0  605b12ea43c9b1e63f53120d          1  Roma  PiazzaNavona  41.899139   \n",
      "1  605b17151da44b11e152da66          1  Roma  PiazzaNavona  41.899139   \n",
      "2  605b17511da44b11e152da67          1  Roma  PiazzaNavona  41.899139   \n",
      "3  605b178d1da44b11e152da68          1  Roma  PiazzaNavona  41.899139   \n",
      "4  605b17ca1da44b11e152da69          1  Roma  PiazzaNavona  41.899139   \n",
      "5  605b18061da44b11e152da6a          1  Roma  PiazzaNavona  41.899139   \n",
      "6  605b18421da44b11e152da6b          1  Roma  PiazzaNavona  41.899139   \n",
      "7  605b187f1da44b11e152da6c          1  Roma  PiazzaNavona  41.899139   \n",
      "\n",
      "   longitude  numPeople                    date                    time  type  \\\n",
      "0  12.473311          0 2021-03-24 11:22:29.231 2021-03-24 11:22:29.231     0   \n",
      "1  12.473311          7 2021-03-24 11:40:09.800 2021-03-24 11:40:09.800     0   \n",
      "2  12.473311         11 2021-03-24 11:41:09.889 2021-03-24 11:41:09.889     0   \n",
      "3  12.473311          6 2021-03-24 11:42:09.921 2021-03-24 11:42:09.921     0   \n",
      "4  12.473311         13 2021-03-24 11:43:09.974 2021-03-24 11:43:09.974     0   \n",
      "5  12.473311         10 2021-03-24 11:44:10.031 2021-03-24 11:44:10.031     0   \n",
      "6  12.473311         13 2021-03-24 11:45:10.274 2021-03-24 11:45:10.274     0   \n",
      "7  12.473311         14 2021-03-24 11:46:10.077 2021-03-24 11:46:10.077     0   \n",
      "\n",
      "  weather_description  temperature  day_of_week  \n",
      "0           clear sky        13.48            2  \n",
      "1           clear sky        13.47            2  \n",
      "2           clear sky        13.47            2  \n",
      "3           clear sky        13.47            2  \n",
      "4           clear sky        13.47            2  \n",
      "5           clear sky        13.47            2  \n",
      "6           clear sky        13.47            2  \n",
      "7           clear sky        13.47            2  \n"
     ]
    }
   ],
   "source": [
    "table = pandas.DataFrame(Detection.objects(city='Roma').as_pymongo())\n",
    "print(table)\n",
    "time, temperature, weather, numP = table['time'].dt.strftime('%H').astype(int),table['temperature'],table['weather_description'],table['numPeople']\n",
    "time = np.asarray(time)\n",
    "temperature = np.asarray(temperature)\n",
    "weather = np.asarray(weather)\n",
    "numP = np.asarray(numP)"
   ]
  },
  {
   "cell_type": "code",
   "execution_count": 59,
   "id": "permanent-ticket",
   "metadata": {},
   "outputs": [],
   "source": [
    "weatherDict = {'clear sky':0}"
   ]
  },
  {
   "cell_type": "code",
   "execution_count": 60,
   "id": "pregnant-finger",
   "metadata": {},
   "outputs": [],
   "source": [
    "for i in range(weather.size):\n",
    "    weather[i] = weatherDict[weather[i]]"
   ]
  },
  {
   "cell_type": "code",
   "execution_count": 61,
   "id": "complex-preference",
   "metadata": {},
   "outputs": [
    {
     "name": "stdout",
     "output_type": "stream",
     "text": [
      "[[11 13.48 0]\n",
      " [11 13.47 0]\n",
      " [11 13.47 0]\n",
      " [11 13.47 0]\n",
      " [11 13.47 0]\n",
      " [11 13.47 0]\n",
      " [11 13.47 0]\n",
      " [11 13.47 0]]\n"
     ]
    },
    {
     "data": {
      "text/plain": [
       "LinearRegression()"
      ]
     },
     "execution_count": 61,
     "metadata": {},
     "output_type": "execute_result"
    }
   ],
   "source": [
    "temperature = temperature.reshape(-1,1)\n",
    "time = time.reshape(-1,1)\n",
    "weather = weather.reshape(-1,1)\n",
    "timeTemp = np.concatenate((time,temperature,weather),axis = 1)\n",
    "print(timeTemp)\n",
    "model = sklearn.linear_model.LinearRegression()\n",
    "model.fit(timeTemp,numP) "
   ]
  },
  {
   "cell_type": "code",
   "execution_count": 62,
   "id": "economic-startup",
   "metadata": {},
   "outputs": [
    {
     "name": "stdout",
     "output_type": "stream",
     "text": [
      "Coefficients: \n",
      " [    0.         -1057.14285714     0.        ]\n"
     ]
    }
   ],
   "source": []
  },
  {
   "cell_type": "code",
   "execution_count": null,
   "id": "constitutional-stocks",
   "metadata": {},
   "outputs": [],
   "source": []
  }
 ],
 "metadata": {
  "kernelspec": {
   "display_name": "Python 3",
   "language": "python",
   "name": "python3"
  },
  "language_info": {
   "codemirror_mode": {
    "name": "ipython",
    "version": 3
   },
   "file_extension": ".py",
   "mimetype": "text/x-python",
   "name": "python",
   "nbconvert_exporter": "python",
   "pygments_lexer": "ipython3",
   "version": "3.8.8"
  }
 },
 "nbformat": 4,
 "nbformat_minor": 5
}
