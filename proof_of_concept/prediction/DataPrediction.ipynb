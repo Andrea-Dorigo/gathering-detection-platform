{
 "cells": [
  {
   "cell_type": "code",
   "execution_count": 56,
   "id": "adolescent-columbia",
   "metadata": {},
   "outputs": [],
   "source": [
    "from mongoengine import *\n",
    "import numpy as np\n",
    "import datetime \n",
    "import pandas\n",
    "import sklearn"
   ]
  },
  {
   "cell_type": "code",
   "execution_count": 57,
   "id": "forty-plastic",
   "metadata": {},
   "outputs": [],
   "source": [
    "connect(\"GDP-test\", host = \"localhost\", port = 27017)\n",
    "class Detection(Document):\n",
    "    id_webcam = IntField(required=True)\n",
    "    city = StringField(required=True)\n",
    "    location = StringField(required=True)\n",
    "    latitude = FloatField(required=True)\n",
    "    longitude = FloatField(required=True)\n",
    "    numPeople = IntField(required=True)\n",
    "    date = DateTimeField(required=True)\n",
    "    time = DateTimeField(required=True)\n",
    "    type = IntField(required=True)\n",
    "    weather_description = StringField()\n",
    "    temperature = FloatField()\n",
    "    day_of_week = IntField()"
   ]
  },
  {
   "cell_type": "code",
   "execution_count": 69,
   "id": "signal-manor",
   "metadata": {},
   "outputs": [],
   "source": [
    "table = pandas.DataFrame(Detection.objects.as_pymongo())\n",
    "time, temperature, weather, numP = table['time'].dt.strftime('%H'),table['temperature'],table['weather_description'],table['numPeople']\n",
    "time = np.asarray(time)\n",
    "temperature = np.asarray(temperature)\n",
    "weather = np.asarray(weather)\n",
    "numP = np.asarray(numP)"
   ]
  },
  {
   "cell_type": "code",
   "execution_count": null,
   "id": "pregnant-finger",
   "metadata": {},
   "outputs": [],
   "source": []
  }
 ],
 "metadata": {
  "kernelspec": {
   "display_name": "Python 3",
   "language": "python",
   "name": "python3"
  },
  "language_info": {
   "codemirror_mode": {
    "name": "ipython",
    "version": 3
   },
   "file_extension": ".py",
   "mimetype": "text/x-python",
   "name": "python",
   "nbconvert_exporter": "python",
   "pygments_lexer": "ipython3",
   "version": "3.8.8"
  }
 },
 "nbformat": 4,
 "nbformat_minor": 5
}
