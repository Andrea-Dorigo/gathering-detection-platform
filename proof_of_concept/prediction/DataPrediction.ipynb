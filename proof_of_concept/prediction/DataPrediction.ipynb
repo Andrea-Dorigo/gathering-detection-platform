{
 "cells": [
  {
   "cell_type": "code",
   "execution_count": 69,
   "id": "adolescent-columbia",
   "metadata": {},
   "outputs": [],
   "source": [
    "from mongoengine import *\n",
    "import numpy as np\n",
    "import datetime \n",
    "import pandas\n",
    "from sklearn import *"
   ]
  },
  {
   "cell_type": "code",
   "execution_count": 70,
   "id": "forty-plastic",
   "metadata": {},
   "outputs": [],
   "source": [
    "connect(\"GDP-test\", host = \"localhost\", port = 27017)\n",
    "class Detection(Document):\n",
    "    id_webcam = IntField(required=True)\n",
    "    city = StringField(required=True)\n",
    "    location = StringField(required=True)\n",
    "    latitude = FloatField(required=True)\n",
    "    longitude = FloatField(required=True)\n",
    "    numPeople = IntField(required=True)\n",
    "    date = DateTimeField(required=True)\n",
    "    time = DateTimeField(required=True)\n",
    "    type = IntField(required=True)\n",
    "    weather_description = StringField()\n",
    "    temperature = FloatField()\n",
    "    day_of_week = IntField()"
   ]
  },
  {
   "cell_type": "code",
   "execution_count": 112,
   "id": "signal-manor",
   "metadata": {},
   "outputs": [
    {
     "name": "stdout",
     "output_type": "stream",
     "text": [
      "['Roma', 'Novska', 'Djakovo', 'Krk']\n",
      "      numPeople  time weather_description  temperature  day_of_week\n",
      "0             6     9           clear sky         7.10            2\n",
      "1             6     9           clear sky         7.10            2\n",
      "2             7     9           clear sky         7.10            2\n",
      "3            10     9           clear sky         8.25            2\n",
      "4             6     9           clear sky         8.25            2\n",
      "...         ...   ...                 ...          ...          ...\n",
      "1411          8     8           clear sky         8.18            0\n",
      "1412          8     8           clear sky         8.18            0\n",
      "1413          6     8           clear sky         9.44            0\n",
      "1414         11     8           clear sky         9.44            0\n",
      "1415          8     8           clear sky         9.44            0\n",
      "\n",
      "[1416 rows x 5 columns]\n"
     ]
    }
   ],
   "source": [
    "print(Detection.objects.distinct('city')) # vedere se posso prendere solo le città per poi fare query distinte\n",
    "table = pandas.DataFrame(Detection.objects(city='Roma').as_pymongo()) #prelevo i dati di roma\n",
    "table = table.drop(columns = ['_id','id_webcam','city','date','type','location','latitude','longitude']) #tolgo colonne inutili\n",
    "table['time'] = table['time'].dt.strftime('%H').astype(int)#modifico le colonne con i valori che mi servono\n",
    "print(table)\n",
    "table['weather_description'] = pandas.get_dummies(table['weather_description']) #il weather viene convertito con parametri interi\n",
    "\n",
    "\n"
   ]
  },
  {
   "cell_type": "code",
   "execution_count": 116,
   "id": "separate-bonus",
   "metadata": {},
   "outputs": [
    {
     "name": "stdout",
     "output_type": "stream",
     "text": [
      "      time  weather_description  temperature  day_of_week\n",
      "0        9                    0         7.10            2\n",
      "1        9                    0         7.10            2\n",
      "2        9                    0         7.10            2\n",
      "3        9                    0         8.25            2\n",
      "4        9                    0         8.25            2\n",
      "...    ...                  ...          ...          ...\n",
      "1411     8                    0         8.18            0\n",
      "1412     8                    0         8.18            0\n",
      "1413     8                    0         9.44            0\n",
      "1414     8                    0         9.44            0\n",
      "1415     8                    0         9.44            0\n",
      "\n",
      "[1416 rows x 4 columns]\n"
     ]
    },
    {
     "data": {
      "text/plain": [
       "LinearRegression()"
      ]
     },
     "execution_count": 116,
     "metadata": {},
     "output_type": "execute_result"
    }
   ],
   "source": [
    "print(table[['time','weather_description','temperature','day_of_week']])\n",
    "model = sklearn.linear_model.LinearRegression()\n",
    "model.fit(table[['time','weather_description','temperature','day_of_week']],table['numPeople']) #provo a dargli in pasto tutto\n",
    "#prima di questo ora bisogna dividere tutto il dataset in 70-30"
   ]
  },
  {
   "cell_type": "code",
   "execution_count": 87,
   "id": "bridal-hypothesis",
   "metadata": {},
   "outputs": [],
   "source": [
    "\n",
    "#robe vecchie sbagliate non guardare\n",
    "\n",
    "time, temperature, weather, numP = table['time'].dt.strftime('%H').astype(int),table['temperature'],table['weather_description'],table['numPeople']\n",
    "time = np.asarray(time)\n",
    "temperature = np.asarray(temperature)\n",
    "weather = np.asarray(weather)\n",
    "numP = np.asarray(numP)\n",
    "weatherDict = {'clear sky':0}"
   ]
  },
  {
   "cell_type": "code",
   "execution_count": 60,
   "id": "pregnant-finger",
   "metadata": {},
   "outputs": [],
   "source": [
    "for i in range(weather.size):\n",
    "    weather[i] = weatherDict[weather[i]]"
   ]
  },
  {
   "cell_type": "code",
   "execution_count": 61,
   "id": "equivalent-father",
   "metadata": {},
   "outputs": [
    {
     "name": "stdout",
     "output_type": "stream",
     "text": [
      "[[11 13.48 0]\n",
      " [11 13.47 0]\n",
      " [11 13.47 0]\n",
      " [11 13.47 0]\n",
      " [11 13.47 0]\n",
      " [11 13.47 0]\n",
      " [11 13.47 0]\n",
      " [11 13.47 0]]\n"
     ]
    },
    {
     "data": {
      "text/plain": [
       "LinearRegression()"
      ]
     },
     "execution_count": 61,
     "metadata": {},
     "output_type": "execute_result"
    }
   ],
   "source": [
    "temperature = temperature.reshape(-1,1)\n",
    "time = time.reshape(-1,1)\n",
    "weather = weather.reshape(-1,1)\n",
    "timeTemp = np.concatenate((time,temperature,weather),axis = 1)\n",
    "print(timeTemp)\n",
    "model = sklearn.linear_model.LinearRegression()\n",
    "model.fit(timeTemp,numP) "
   ]
  },
  {
   "cell_type": "code",
   "execution_count": 62,
   "id": "consistent-venezuela",
   "metadata": {},
   "outputs": [
    {
     "name": "stdout",
     "output_type": "stream",
     "text": [
      "Coefficients: \n",
      " [    0.         -1057.14285714     0.        ]\n"
     ]
    }
   ],
   "source": []
  },
  {
   "cell_type": "code",
   "execution_count": null,
   "id": "future-divorce",
   "metadata": {},
   "outputs": [],
   "source": []
  }
 ],
 "metadata": {
  "kernelspec": {
   "display_name": "Python 3",
   "language": "python",
   "name": "python3"
  },
  "language_info": {
   "codemirror_mode": {
    "name": "ipython",
    "version": 3
   },
   "file_extension": ".py",
   "mimetype": "text/x-python",
   "name": "python",
   "nbconvert_exporter": "python",
   "pygments_lexer": "ipython3",
   "version": "3.8.8"
  }
 },
 "nbformat": 4,
 "nbformat_minor": 5
}
