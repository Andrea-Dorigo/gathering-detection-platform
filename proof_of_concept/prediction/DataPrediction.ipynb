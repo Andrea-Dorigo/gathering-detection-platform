{
 "cells": [
  {
   "cell_type": "code",
   "execution_count": 1,
   "id": "adolescent-columbia",
   "metadata": {},
   "outputs": [
    {
     "name": "stdout",
     "output_type": "stream",
     "text": [
      "1.2.1\n",
      "0.24.1\n",
      "1.20.1\n"
     ]
    }
   ],
   "source": [
    "from mongoengine import *\n",
    "import numpy as np\n",
    "import datetime \n",
    "import pandas\n",
    "import matplotlib.pyplot as plt\n",
    "import sklearn\n",
    "import tabulate\n",
    "\n",
    "\n",
    "print(pandas.__version__)\n",
    "print(sklearn.__version__)\n",
    "print(np.__version__)\n",
    "\n",
    "CITTA = 'Djakovo'\n",
    "DATAINIZIO = '2021-05-03'\n",
    "DATAFINE = '2021-05-04'"
   ]
  },
  {
   "cell_type": "code",
   "execution_count": 2,
   "id": "forty-plastic",
   "metadata": {},
   "outputs": [],
   "source": [
    "connect(\"GDP-test\", host = \"localhost\", port = 27017)\n",
    "class Detection(Document):\n",
    "    id_webcam = IntField(required=True)\n",
    "    city = StringField(required=True)\n",
    "    location = StringField(required=True)\n",
    "    latitude = FloatField(required=True)\n",
    "    longitude = FloatField(required=True)\n",
    "    numPeople = IntField(required=True)\n",
    "    date = DateTimeField(required=True)\n",
    "    time = DateTimeField(required=True)\n",
    "    type = IntField(required=True)\n",
    "    weather_description = StringField()\n",
    "    temperature = FloatField()\n",
    "    day_of_week = IntField()"
   ]
  },
  {
   "cell_type": "code",
   "execution_count": 3,
   "id": "usual-tuner",
   "metadata": {},
   "outputs": [],
   "source": [
    "# print(Detection.objects.distinct('city')) # vedere se posso prendere solo le città per poi fare query distinte\n",
    "table = pandas.DataFrame(Detection.objects(city=CITTA,type=0).as_pymongo()) #prelevo i dati di roma\n",
    "\n",
    "table = table.dropna()\n",
    "\n",
    "most_freq = lambda x: x.value_counts(dropna=True).index[0]\n",
    "\n",
    "table_a = table\n",
    "table_a = table_a.drop(columns = ['_id','id_webcam','city','type','date','location','latitude','longitude'])\n",
    "table_a['time'] = pandas.to_datetime(table_a['time'])\n",
    "table_a.sort_values(by='time', inplace=True)\n",
    "#print(table_a.columns)\n",
    "#table_1 = table_a.resample('30T', on='time').agg({'numPeople': 'mean', 'temperature' : 'mean', 'weather_description'}).head(20)\n",
    "tb = table_a.groupby([pandas.Grouper(key='time', freq='60T')], as_index=False).agg( time=('time', most_freq)\n",
    "                                                                   , meanPeople=('numPeople', 'mean')\n",
    "                                                                   , temp=('temperature','mean')\n",
    "                                                                   , weather=('weather_description', most_freq )\n",
    "                                                                   , day_of_week=('day_of_week', most_freq))\n",
    "\n",
    "\n",
    "tb = tb.dropna()\n",
    "\n",
    "# tb.plot('time','meanPeople')\n",
    "#tb['hour'] = tb['time'].apply(tb['time'].hour)\n",
    "# #print(type tb['time'])\n",
    "#print(tb.to_markdown())\n",
    "#print(table_a.to_markdown())\n",
    "# tb.plot('time','numPeople')"
   ]
  },
  {
   "cell_type": "code",
   "execution_count": 4,
   "id": "packed-costa",
   "metadata": {},
   "outputs": [
    {
     "name": "stderr",
     "output_type": "stream",
     "text": [
      "<ipython-input-4-6a6238086889>:11: SettingWithCopyWarning: \n",
      "A value is trying to be set on a copy of a slice from a DataFrame.\n",
      "Try using .loc[row_indexer,col_indexer] = value instead\n",
      "\n",
      "See the caveats in the documentation: https://pandas.pydata.org/pandas-docs/stable/user_guide/indexing.html#returning-a-view-versus-a-copy\n",
      "  real['time'] = real['time'].dt.hour\n"
     ]
    }
   ],
   "source": [
    "\n",
    "pred = pandas.DataFrame(Detection.objects(city=CITTA,type=1).as_pymongo())\n",
    "pred = pred.drop(columns = ['_id','id_webcam','city','type','date','location','latitude','longitude'])\n",
    "pred['time'] = pandas.to_datetime(pred['time'])\n",
    "pred.sort_values(by='time', inplace=True)\n",
    "pred = pred.loc[(pred['time'] >= DATAINIZIO)\n",
    "                     & (pred['time'] < DATAFINE)]\n",
    "real = tb\n",
    "real = real.loc[(real['time'] >= DATAINIZIO)\n",
    "                     & (real['time'] < DATAFINE)]\n",
    "pred['time'] = pred['time'].dt.hour\n",
    "real['time'] = real['time'].dt.hour\n",
    "\n",
    "\n"
   ]
  },
  {
   "cell_type": "code",
   "execution_count": 5,
   "id": "extended-amber",
   "metadata": {},
   "outputs": [
    {
     "name": "stdout",
     "output_type": "stream",
     "text": [
      "    time   temp  weather  day_of_week\n",
      "0      0  12.05        0            3\n",
      "1      1  12.82        0            3\n",
      "2      2  12.61        0            3\n",
      "3      3  12.54        6            3\n",
      "4      4  12.26        6            3\n",
      "5      5  10.82        0            3\n",
      "6      6  10.54        0            3\n",
      "7      7  12.51        0            3\n",
      "8      8  14.23        0            3\n",
      "9      9  15.50        7            3\n",
      "10    10  17.31        0            3\n",
      "11    11  16.65        0            3\n",
      "12    12  15.55        0            3\n",
      "13    13  15.73        0            3\n",
      "14    14  14.76        0            3\n",
      "15    15  14.51        6            3\n",
      "16    16  14.54        6            3\n",
      "17    17  15.23        6            3\n",
      "18    18  17.18        3            3\n",
      "19    19  14.78        3            3\n",
      "20    20  13.26        3            3\n",
      "21    21  12.43        6            3\n",
      "22    22  12.51        6            3\n",
      "23    23  12.35        6            3\n"
     ]
    }
   ],
   "source": [
    "import sklearn.preprocessing\n",
    "\n",
    "class weather_forecast(Document):\n",
    "    latitude = FloatField(required=True)\n",
    "    longitude = FloatField(required=True)\n",
    "    datetime = DateTimeField(required=True)\n",
    "    weather_description = StringField()\n",
    "    temperature = FloatField()\n",
    "    \n",
    "\n",
    "    \n",
    "forecast = pandas.DataFrame(weather_forecast.objects(latitude='45.309812').as_pymongo()) #prelevo i dati di Djakovo\n",
    "forecast = forecast.drop(columns = ['_id','latitude','longitude'])\n",
    "\n",
    "forecast['datetime'] = pandas.to_datetime(forecast['datetime'])\n",
    "forecast = forecast.groupby('datetime').first().reset_index()\n",
    "forecast.sort_values(by='datetime', inplace=True)\n",
    "\n",
    "\n",
    "today = datetime.datetime.today()\n",
    "tomorrow = today + datetime.timedelta(days=1)\n",
    "midnight0 = datetime.datetime.combine(today, datetime.datetime.min.time())\n",
    "midnight1 = datetime.datetime.combine(tomorrow, datetime.datetime.min.time())\n",
    "\n",
    "forecast = forecast.loc[(forecast['datetime'] >= midnight0)]\n",
    "forecast = forecast.loc[(forecast['datetime'] < midnight1)].reset_index()\n",
    "# print(forecast.to_markdown())\n",
    "\n",
    "\n",
    "weekday = np.full((24,1),today.weekday())\n",
    "fc = pandas.DataFrame()\n",
    "fc.insert(0,'time', np.arange(0,24))\n",
    "fc.insert(1,'temp', forecast['temperature'].iloc[0:24])\n",
    "fc.insert(2,'weather', forecast['weather_description'].iloc[0:24])\n",
    "fc.insert(3,'day_of_week', weekday[0:24])\n",
    "\n",
    "forecast_dummies = fc['weather'].unique()\n",
    "detection_dummies = tb['weather'].unique()\n",
    "le = sklearn.preprocessing.LabelEncoder()\n",
    "le.classes_ = np.unique(np.concatenate((forecast_dummies, detection_dummies), axis=0))\n",
    "\n",
    "fc['weather'] = le.transform(fc['weather'])\n",
    "tb['weather_dummy'] = le.transform(tb['weather'])\n",
    "\n",
    "# print(le.classes_)\n",
    "# le.fit(fc['weather'])\n",
    "# le.fit(table_a['weather_description'])\n",
    "\n",
    "# print(le.classes_)\n",
    "\n",
    "# print(fc.columns)\n",
    "\n",
    "# for index, row in forecast.iterrows():\n",
    "#     print(index)\n",
    "#     fc.insert(index,'aa', index)\n",
    "\n",
    "print(fc)\n",
    "# print(tb)\n",
    "\n",
    "# data = {'time':  [0,1,2,3,4,5,6,7,8,9,10,11,12,13,14,15,16,17,18,19,20,21,22,23],\n",
    "#         'temp':  [5,4,3,3,3,3,4,7,8,10,13,14,11,16,14,12,12,12,11,10,9,8,6,6],\n",
    "#         'day_of_week': [6,6,6,6,6,6,6,6,6,6,6,6,6,6,6,6,6,6,6,6,6,6,6,6],\n",
    "#         'weather':     [0,0,0,0,0,0,0,1,1,1,1,1,0,0,0,0,0,0,0,0,1,1,1,1]\n",
    "#         }\n",
    "\n",
    "# df = pandas.DataFrame (data, columns = ['time','temp','day_of_week','weather'])"
   ]
  },
  {
   "cell_type": "code",
   "execution_count": 6,
   "id": "internal-office",
   "metadata": {},
   "outputs": [],
   "source": [
    "# s1 = datetime.datetime(2021,3,26)\n",
    "# e1 = datetime.datetime(2021,3,27)\n",
    "# q1 = {'date': {'$gte': start, '$lt': end}, 'city' : 'Roma'}\n",
    "# t1 = pandas.DataFrame(Detection.objects(__raw__=q1).as_pymongo())\n",
    "\n",
    "\n",
    "# table = table.drop(columns = ['_id','id_webcam','city','date','type','location','latitude','longitude'])\n",
    "# table.plot('time','numPeople')"
   ]
  },
  {
   "cell_type": "code",
   "execution_count": 7,
   "id": "enabling-paraguay",
   "metadata": {
    "scrolled": true
   },
   "outputs": [],
   "source": [
    "t1 = tb.copy(deep = True)\n",
    "t2 = tb.copy(deep = True)\n",
    "tb['time'] = tb['time'].dt.hour\n",
    "#tb['time'] = (tb['time'].dt.hour).astype(int)#modifico le colonne con i valori che mi servono"
   ]
  },
  {
   "cell_type": "code",
   "execution_count": 8,
   "id": "beautiful-motivation",
   "metadata": {},
   "outputs": [],
   "source": [
    "import sklearn.model_selection\n",
    "\n",
    "# tb['weather'] = pandas.get_dummies(tb['weather']) #il weather viene convertito con parametri interi\n",
    "\n",
    "# print(tb.to_markdown())\n",
    "tb = tb.dropna()\n",
    "tb = tb.reset_index()\n",
    "\n",
    "#divide the dataframe 70-30 for train and test\n",
    "x_train, x_test, y_train, y_test = sklearn.model_selection.train_test_split(\n",
    "    tb[['time','temp','day_of_week','weather_dummy']], \n",
    "    tb['meanPeople'], \n",
    "    test_size = 0.33, shuffle = True, random_state= 42)"
   ]
  },
  {
   "cell_type": "code",
   "execution_count": 9,
   "id": "worse-theology",
   "metadata": {
    "scrolled": true
   },
   "outputs": [],
   "source": [
    "#Modello tipo Regressione Lineare standard\n",
    "# import sklearn.linear_model\n",
    "\n",
    "# modelLReg = sklearn.linear_model.LinearRegression()\n",
    "# #provo a dargli in pasto tutto\n",
    "# #prima di questo ora bisogna dividere tutto il dataset in 70-30\n",
    "# # print(x_train.to_markdown())\n",
    "# modelLReg.fit(x_train, y_train)\n",
    "\n",
    "\n",
    "# # The coefficients\n",
    "# print('Coefficients: \\n', modelLReg.coef_)\n",
    "\n",
    "# # The mean square error\n",
    "# print(\"Residual sum of squares: %.2f\" % np.mean((modelLReg.predict(x_test) - y_test) ** 2))\n",
    "\n",
    "# # Explained variance score: 1 is perfect prediction\n",
    "# print('Variance score: %.2f' % modelLReg.score(x_test, y_test))\n",
    "\n"
   ]
  },
  {
   "cell_type": "code",
   "execution_count": 10,
   "id": "solid-press",
   "metadata": {},
   "outputs": [],
   "source": [
    "# data = {'time':  [0,1,2,3,4,5,6,7,8,9,10,11,12,13,14,15,16,17,18,19,20,21,22,23],\n",
    "#         'temp':  [5,4,3,3,3,3,4,7,8,10,13,14,11,16,14,12,12,12,11,10,9,8,6,6],\n",
    "#         'day_of_week': [6,6,6,6,6,6,6,6,6,6,6,6,6,6,6,6,6,6,6,6,6,6,6,6],\n",
    "#         'weather':     [0,0,0,0,0,0,0,1,1,1,1,1,0,0,0,0,0,0,0,0,1,1,1,1]\n",
    "#         }\n",
    "\n",
    "# df = pandas.DataFrame (data, columns = ['time','temp','day_of_week','weather'])\n",
    "\n",
    "#print(model.predict(df))\n",
    "# plt.title(\"Lin Reg\")\n",
    "# plt.plot(df['time'],modelLReg.predict(df))"
   ]
  },
  {
   "cell_type": "code",
   "execution_count": 11,
   "id": "vital-stereo",
   "metadata": {},
   "outputs": [],
   "source": [
    "#Modello tipo Lasso\n",
    "# modelLasso = sklearn.linear_model.Lasso()\n",
    "\n",
    "# modelLasso.fit(x_train,y_train)\n",
    "# print('Lasso score : %.2f' % modelLasso.score(x_test,y_test))\n",
    "# plt.title(\"Lasso\")\n",
    "# plt.plot(df['time'],modelLasso.predict(df))"
   ]
  },
  {
   "cell_type": "code",
   "execution_count": 12,
   "id": "romance-johnson",
   "metadata": {},
   "outputs": [],
   "source": [
    "#Modello tipo Ridge\n",
    "# modelRidge = sklearn.linear_model.Ridge()\n",
    "\n",
    "# modelRidge.fit(x_train,y_train)\n",
    "# print('Ridge score : %.2f' % modelRidge.score(x_test,y_test))\n",
    "# plt.title(\"Ridge\")\n",
    "# plt.plot(df['time'],modelRidge.predict(df))"
   ]
  },
  {
   "cell_type": "code",
   "execution_count": 13,
   "id": "indie-python",
   "metadata": {},
   "outputs": [
    {
     "name": "stdout",
     "output_type": "stream",
     "text": [
      "[ 0.  0.  0.  0.  0.  0.  2.  4.  7.  5. 11. 10. 10.  8.  5.  4.  4.  6.\n",
      "  8.  8.  3.  2.  1.  0.]\n"
     ]
    },
    {
     "data": {
      "text/plain": [
       "[<matplotlib.lines.Line2D at 0x7f3ffcfefb20>]"
      ]
     },
     "execution_count": 13,
     "metadata": {},
     "output_type": "execute_result"
    },
    {
     "data": {
      "image/png": "[encoded data removed]",
      "text/plain": [
       "<Figure size 432x288 with 1 Axes>"
      ]
     },
     "metadata": {
      "needs_background": "light"
     },
     "output_type": "display_data"
    }
   ],
   "source": [
    "#Modello tipo Forest\n",
    "from sklearn.ensemble import RandomForestRegressor\n",
    "\n",
    "modelForest = RandomForestRegressor(n_estimators = 1000)\n",
    "\n",
    "modelForest.fit(x_train,y_train)\n",
    "score_all = modelForest.score(x_test,y_test)\n",
    "forest_prediction= modelForest.predict(fc)\n",
    "plt.title(\"Random Forest\")\n",
    "forest_prediction = np.rint(forest_prediction)\n",
    "#ATTENZIONE: CONVERTENDO IN INTERO PERDO LA PRECISIONE.\n",
    "print(forest_prediction)\n",
    "plt.plot(fc['time'],modelForest.predict(fc))"
   ]
  },
  {
   "cell_type": "code",
   "execution_count": 14,
   "id": "arctic-timing",
   "metadata": {},
   "outputs": [],
   "source": [
    "# t1['time'] = t1['time'].dt.hour\n",
    "\n",
    "t1 = t1.loc[(t1['time'] >= '2021-03-01')\n",
    "                     & (t1['time'] < '2021-04-01')]\n",
    "t1['time'] = t1['time'].dt.hour\n",
    "t1 = t1.dropna()\n",
    "t1 = t1.reset_index()\n",
    "\n",
    "x_train, x_test, y_train, y_test = sklearn.model_selection.train_test_split(\n",
    "    t1[['time','temp','day_of_week','weather_dummy']], \n",
    "    t1['meanPeople'], \n",
    "    test_size = 0.33, shuffle = True, random_state= 42)\n",
    "\n",
    "modelForest.fit(x_train,y_train)\n",
    "score_march = modelForest.score(x_test,y_test)\n",
    "\n",
    "t2 = t2.loc[(t2['time'] >= '2021-04-01')\n",
    "                     & (t2['time'] < '2021-05-01')]\n",
    "t2['time'] = t2['time'].dt.hour\n",
    "t2 = t2.dropna()\n",
    "t2 = t2.reset_index()\n",
    "\n",
    "x_train, x_test, y_train, y_test = sklearn.model_selection.train_test_split(\n",
    "    t2[['time','temp','day_of_week','weather_dummy']], \n",
    "    t2['meanPeople'], \n",
    "    test_size = 0.33, shuffle = True, random_state= 42)\n",
    "\n",
    "modelForest.fit(x_train,y_train)\n",
    "score_april = modelForest.score(x_test,y_test)\n"
   ]
  },
  {
   "cell_type": "code",
   "execution_count": 15,
   "id": "signal-manor",
   "metadata": {},
   "outputs": [
    {
     "name": "stdout",
     "output_type": "stream",
     "text": [
      "|    |   id_webcam |   numPeople | time                | weather_description   |   temperature |\n",
      "|---:|------------:|------------:|:--------------------|:----------------------|--------------:|\n",
      "|  0 |           3 |           0 | 2021-05-13 00:00:00 | broken clouds         |         12.05 |\n",
      "|  1 |           3 |           0 | 2021-05-13 01:00:00 | broken clouds         |         12.82 |\n",
      "|  2 |           3 |           0 | 2021-05-13 02:00:00 | broken clouds         |         12.61 |\n",
      "|  3 |           3 |           0 | 2021-05-13 03:00:00 | overcast clouds       |         12.54 |\n",
      "|  4 |           3 |           0 | 2021-05-13 04:00:00 | overcast clouds       |         12.26 |\n",
      "|  5 |           3 |           0 | 2021-05-13 05:00:00 | broken clouds         |         10.82 |\n",
      "|  6 |           3 |           2 | 2021-05-13 06:00:00 | broken clouds         |         10.54 |\n",
      "|  7 |           3 |           4 | 2021-05-13 07:00:00 | broken clouds         |         12.51 |\n",
      "|  8 |           3 |           7 | 2021-05-13 08:00:00 | broken clouds         |         14.23 |\n",
      "|  9 |           3 |           5 | 2021-05-13 09:00:00 | scattered clouds      |         15.5  |\n",
      "| 10 |           3 |          11 | 2021-05-13 10:00:00 | broken clouds         |         17.31 |\n",
      "| 11 |           3 |          10 | 2021-05-13 11:00:00 | broken clouds         |         16.65 |\n",
      "| 12 |           3 |          10 | 2021-05-13 12:00:00 | broken clouds         |         15.55 |\n",
      "| 13 |           3 |           8 | 2021-05-13 13:00:00 | broken clouds         |         15.73 |\n",
      "| 14 |           3 |           5 | 2021-05-13 14:00:00 | broken clouds         |         14.76 |\n",
      "| 15 |           3 |           4 | 2021-05-13 15:00:00 | overcast clouds       |         14.51 |\n",
      "| 16 |           3 |           4 | 2021-05-13 16:00:00 | overcast clouds       |         14.54 |\n",
      "| 17 |           3 |           6 | 2021-05-13 17:00:00 | overcast clouds       |         15.23 |\n",
      "| 18 |           3 |           8 | 2021-05-13 18:00:00 | light rain            |         17.18 |\n",
      "| 19 |           3 |           8 | 2021-05-13 19:00:00 | light rain            |         14.78 |\n",
      "| 20 |           3 |           3 | 2021-05-13 20:00:00 | light rain            |         13.26 |\n",
      "| 21 |           3 |           2 | 2021-05-13 21:00:00 | overcast clouds       |         12.43 |\n",
      "| 22 |           3 |           1 | 2021-05-13 22:00:00 | overcast clouds       |         12.51 |\n",
      "| 23 |           3 |           0 | 2021-05-13 23:00:00 | overcast clouds       |         12.35 |\n"
     ]
    }
   ],
   "source": [
    "#table = table.drop(columns = ['_id','id_webcam','city','date','type','location','latitude','longitude']) #tolgo colonne inutili\n",
    "#table.plot('time','numPeople')\n",
    "#table['time'] = table['time'].dt.strftime('%H').astype(int)#modifico le colonne con i valori che mi servono\n",
    "#table['weather_description'] = pandas.get_dummies(table['weather_description']) #il weather viene convertito con parametri interi\n",
    "#print(table.to_markdown())\n",
    "\n",
    "#start = datetime.datetime(2021,3,26)\n",
    "#end = datetime.datetime(2021,3,27)\n",
    "#raw_query = {'date': {'$gte': start, '$lt': end}, 'city' : 'Roma'}\n",
    "#table = pandas.DataFrame(Detection.objects(__raw__=raw_query).as_pymongo())\n",
    "#table = table.drop(columns = ['_id','id_webcam','city','date','type','location','latitude','longitude'])\n",
    "#table.plot('time','numPeople')\n",
    "\n",
    "#divide the dataframe 70-30 for train and test\n",
    "#x_train, x_test, y_train, y_test = sklearn.model_selection.train_test_split(\n",
    "#    table[['time','temperature','day_of_week','weather_description']], \n",
    "#    table['numPeople'], \n",
    "#    test_size = 0.33, shuffle = True, random_state= 42)\n",
    "\n",
    "timePred = datetime.datetime.today().replace(hour=0, minute=0, second=0, microsecond=0) + datetime.timedelta(days = 1)\n",
    "timeDelta = datetime.timedelta(hours = 1)\n",
    "xTime = []\n",
    "xtime = np.asarray(xTime)\n",
    "for i in range(24):\n",
    "    xTime.append(timePred+timeDelta*i)\n",
    "dtPrediction = pandas.DataFrame()\n",
    "dtPrediction.insert(0,'id_webcam', table['id_webcam'].iloc[0:24])\n",
    "dtPrediction.insert(1,'city', table['city'].iloc[0:24])\n",
    "dtPrediction.insert(2,'location', table['location'].iloc[0:24])\n",
    "dtPrediction.insert(3,'latitude', table['latitude'].iloc[0:24])\n",
    "dtPrediction.insert(4,'longitude', table['longitude'].iloc[0:24])\n",
    "dtPrediction.insert(5,'numPeople', forest_prediction[0:24])\n",
    "dtPrediction.insert(6,'date', forecast['datetime'].iloc[0:24])\n",
    "dtPrediction.insert(7,'time',  forecast['datetime'].iloc[0:24])\n",
    "dtPrediction.insert(8,'type', int(1))\n",
    "dtPrediction.insert(9,'weather_description', forecast['weather_description'])\n",
    "dtPrediction.insert(10,'temperature', forecast['temperature'])\n",
    "dtPrediction.insert(11,'day_of_week', fc['day_of_week'])\n",
    "\n",
    "print(dtPrediction.drop(columns = ['city','type','date','location','latitude','longitude','day_of_week']).to_markdown())\n",
    "# for i in range(24):\n",
    "#     Detection(id_webcam = dtPrediction['id_webcam'][i], city = dtPrediction['city'][i],location = dtPrediction['location'][i],latitude = dtPrediction['latitude'][i],longitude = dtPrediction['longitude'][i],numPeople = dtPrediction['numPeople'][i],date = dtPrediction['date'][i],time = dtPrediction['time'][i],type = dtPrediction['type'][i],weather_description = dtPrediction['weather_description'][i],temperature = dtPrediction['temperature'][i],day_of_week = dtPrediction['day_of_week'][i]).save()\n"
   ]
  },
  {
   "cell_type": "code",
   "execution_count": 16,
   "id": "aquatic-indian",
   "metadata": {},
   "outputs": [
    {
     "data": {
      "image/png": "[encoded data removed]",
      "text/plain": [
       "<Figure size 1008x720 with 1 Axes>"
      ]
     },
     "metadata": {
      "needs_background": "light"
     },
     "output_type": "display_data"
    },
    {
     "name": "stdout",
     "output_type": "stream",
     "text": [
      "Forest score per l'intero periodo fino ad oggi: -------- 0.80\n",
      "Forest score per l'intervallo 26-03 01-04 : ------------ 0.78\n",
      "Forest score per l'intervallo 01-04 01-05 : ------------ 0.83\n"
     ]
    }
   ],
   "source": [
    "from matplotlib.ticker import (MultipleLocator)\n",
    "from scipy.interpolate import make_interp_spline\n",
    "from scipy.interpolate import interp1d\n",
    "\n",
    "x = pred['time']\n",
    "y = pred['numPeople']\n",
    "\n",
    "cubic_interploation_model=interp1d(x,y,kind=\"cubic\")\n",
    "xs=np.linspace(0,23,500)\n",
    "ys=cubic_interploation_model(xs)\n",
    "\n",
    "# plt.plot(xs, ys)\n",
    "\n",
    "xr = real['time']\n",
    "yr = real['meanPeople']\n",
    "\n",
    "cubic_interploation_model=interp1d(xr,yr,kind=\"cubic\")\n",
    "xsr=np.linspace(0,23,500)\n",
    "ysr=cubic_interploation_model(xsr)\n",
    "\n",
    "fig, ax = plt.subplots()\n",
    "\n",
    "fig.set_figwidth(14)\n",
    "fig.set_figheight(10)\n",
    "\n",
    "ax.set_title('Confronto fra i dati reali e quelli predetti a Djakovo il 3/05/2021')\n",
    "  \n",
    "# label x-axis and y-axis\n",
    "ax.set_ylabel('numero di persone')\n",
    "ax.set_xlabel('tempo (in ore)')\n",
    "\n",
    "# set x, y-axis limits \n",
    "ax.set_xlim(0, 23)\n",
    "ax.set_ylim(0, 12)\n",
    "\n",
    "\n",
    "ax.plot(xsr,ysr, linewidth=3, label = \"numero di persone effettive\")\n",
    "ax.plot(xs,ys, linewidth=3, label = \"numero di persone predette\")\n",
    "\n",
    "ax.xaxis.set_major_locator(MultipleLocator(1))\n",
    "ax.yaxis.set_major_locator(MultipleLocator(1))\n",
    "\n",
    "plt.rc('font', size=15) #controls default text size\n",
    "plt.rc('axes', labelsize=15) #fontsize of the x and y labels\n",
    "\n",
    "\n",
    "plt.legend()\n",
    "plt.show()\n",
    "\n",
    "print('Forest score per l\\'intero periodo fino ad oggi: -------- %.2f' % score_all)\n",
    "print('Forest score per l\\'intervallo 26-03 01-04 : ------------ %.2f' % score_march)\n",
    "print('Forest score per l\\'intervallo 01-04 01-05 : ------------ %.2f' % score_april)\n",
    "\n"
   ]
  },
  {
   "cell_type": "code",
   "execution_count": null,
   "id": "roman-debut",
   "metadata": {},
   "outputs": [],
   "source": []
  }
 ],
 "metadata": {
  "celltoolbar": "Raw Cell Format",
  "kernelspec": {
   "display_name": "Python 3",
   "language": "python",
   "name": "python3"
  },
  "language_info": {
   "codemirror_mode": {
    "name": "ipython",
    "version": 3
   },
   "file_extension": ".py",
   "mimetype": "text/x-python",
   "name": "python",
   "nbconvert_exporter": "python",
   "pygments_lexer": "ipython3",
   "version": "3.9.4"
  }
 },
 "nbformat": 4,
 "nbformat_minor": 5
}
