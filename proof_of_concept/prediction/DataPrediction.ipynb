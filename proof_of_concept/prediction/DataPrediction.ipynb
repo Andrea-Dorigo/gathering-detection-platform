{
 "cells": [
  {
   "cell_type": "code",
   "execution_count": 69,
   "id": "adolescent-columbia",
   "metadata": {},
   "outputs": [],
   "source": [
    "from mongoengine import *\n",
    "import numpy as np\n",
    "import datetime \n",
    "import pandas\n",
    "from sklearn import *"
   ]
  },
  {
   "cell_type": "code",
   "execution_count": 70,
   "id": "forty-plastic",
   "metadata": {},
   "outputs": [],
   "source": [
    "connect(\"GDP-test\", host = \"localhost\", port = 27017)\n",
    "class Detection(Document):\n",
    "    id_webcam = IntField(required=True)\n",
    "    city = StringField(required=True)\n",
    "    location = StringField(required=True)\n",
    "    latitude = FloatField(required=True)\n",
    "    longitude = FloatField(required=True)\n",
    "    numPeople = IntField(required=True)\n",
    "    date = DateTimeField(required=True)\n",
    "    time = DateTimeField(required=True)\n",
    "    type = IntField(required=True)\n",
    "    weather_description = StringField()\n",
    "    temperature = FloatField()\n",
    "    day_of_week = IntField()"
   ]
  },
  {
   "cell_type": "code",
   "execution_count": 73,
   "id": "signal-manor",
   "metadata": {},
   "outputs": [
    {
     "name": "stdout",
     "output_type": "stream",
     "text": [
      "['Roma', 'Novska', 'Djakovo', 'Krk']\n",
      "                           _id  id_webcam  city      location   latitude  \\\n",
      "0     605af2081444b4c212abb284          1  Roma  PiazzaNavona  41.899139   \n",
      "1     605af3351444b4c212abb285          1  Roma  PiazzaNavona  41.899139   \n",
      "2     605af4601444b4c212abb286          1  Roma  PiazzaNavona  41.899139   \n",
      "3     605af58c1444b4c212abb287          1  Roma  PiazzaNavona  41.899139   \n",
      "4     605af6b81444b4c212abb288          1  Roma  PiazzaNavona  41.899139   \n",
      "...                        ...        ...   ...           ...        ...   \n",
      "1411  606175af9d07e17d925a90d7          1  Roma  PiazzaNavona  41.899139   \n",
      "1412  606176dc9d07e17d925a90db          1  Roma  PiazzaNavona  41.899139   \n",
      "1413  606178079d07e17d925a90df          1  Roma  PiazzaNavona  41.899139   \n",
      "1414  606179339d07e17d925a90e3          1  Roma  PiazzaNavona  41.899139   \n",
      "1415  60617a5f9d07e17d925a90e7          1  Roma  PiazzaNavona  41.899139   \n",
      "\n",
      "      longitude  numPeople                    date                    time  \\\n",
      "0     12.473311          6 2021-03-24 09:01:55.210 2021-03-24 09:01:55.210   \n",
      "1     12.473311          6 2021-03-24 09:06:55.172 2021-03-24 09:06:55.172   \n",
      "2     12.473311          7 2021-03-24 09:11:55.164 2021-03-24 09:11:55.164   \n",
      "3     12.473311         10 2021-03-24 09:16:55.110 2021-03-24 09:16:55.110   \n",
      "4     12.473311          6 2021-03-24 09:21:55.152 2021-03-24 09:21:55.152   \n",
      "...         ...        ...                     ...                     ...   \n",
      "1411  12.473311          8 2021-03-29 08:37:14.125 2021-03-29 08:37:14.125   \n",
      "1412  12.473311          8 2021-03-29 08:42:14.174 2021-03-29 08:42:14.174   \n",
      "1413  12.473311          6 2021-03-29 08:47:14.113 2021-03-29 08:47:14.113   \n",
      "1414  12.473311         11 2021-03-29 08:52:14.152 2021-03-29 08:52:14.152   \n",
      "1415  12.473311          8 2021-03-29 08:57:14.111 2021-03-29 08:57:14.111   \n",
      "\n",
      "      type weather_description  temperature  day_of_week  \n",
      "0        0           clear sky         7.10            2  \n",
      "1        0           clear sky         7.10            2  \n",
      "2        0           clear sky         7.10            2  \n",
      "3        0           clear sky         8.25            2  \n",
      "4        0           clear sky         8.25            2  \n",
      "...    ...                 ...          ...          ...  \n",
      "1411     0           clear sky         8.18            0  \n",
      "1412     0           clear sky         8.18            0  \n",
      "1413     0           clear sky         9.44            0  \n",
      "1414     0           clear sky         9.44            0  \n",
      "1415     0           clear sky         9.44            0  \n",
      "\n",
      "[1416 rows x 13 columns]\n"
     ]
    }
   ],
   "source": [
    "print(Detection.objects.distinct('city'))\n",
    "table = pandas.DataFrame(Detection.objects(city='Roma').as_pymongo())\n",
    "print(table)\n",
    "time, temperature, weather, numP = table['time'].dt.strftime('%H').astype(int),table['temperature'],table['weather_description'],table['numPeople']\n",
    "time = np.asarray(time)\n",
    "temperature = np.asarray(temperature)\n",
    "weather = np.asarray(weather)\n",
    "numP = np.asarray(numP)"
   ]
  },
  {
   "cell_type": "code",
   "execution_count": 59,
   "id": "curious-algeria",
   "metadata": {},
   "outputs": [],
   "source": [
    "weatherDict = {'clear sky':0}"
   ]
  },
  {
   "cell_type": "code",
   "execution_count": 60,
   "id": "pregnant-finger",
   "metadata": {},
   "outputs": [],
   "source": [
    "for i in range(weather.size):\n",
    "    weather[i] = weatherDict[weather[i]]"
   ]
  },
  {
   "cell_type": "code",
   "execution_count": 61,
   "id": "broken-criticism",
   "metadata": {},
   "outputs": [
    {
     "name": "stdout",
     "output_type": "stream",
     "text": [
      "[[11 13.48 0]\n",
      " [11 13.47 0]\n",
      " [11 13.47 0]\n",
      " [11 13.47 0]\n",
      " [11 13.47 0]\n",
      " [11 13.47 0]\n",
      " [11 13.47 0]\n",
      " [11 13.47 0]]\n"
     ]
    },
    {
     "data": {
      "text/plain": [
       "LinearRegression()"
      ]
     },
     "execution_count": 61,
     "metadata": {},
     "output_type": "execute_result"
    }
   ],
   "source": [
    "temperature = temperature.reshape(-1,1)\n",
    "time = time.reshape(-1,1)\n",
    "weather = weather.reshape(-1,1)\n",
    "timeTemp = np.concatenate((time,temperature,weather),axis = 1)\n",
    "print(timeTemp)\n",
    "model = sklearn.linear_model.LinearRegression()\n",
    "model.fit(timeTemp,numP) "
   ]
  },
  {
   "cell_type": "code",
   "execution_count": 62,
   "id": "passive-engagement",
   "metadata": {},
   "outputs": [
    {
     "name": "stdout",
     "output_type": "stream",
     "text": [
      "Coefficients: \n",
      " [    0.         -1057.14285714     0.        ]\n"
     ]
    }
   ],
   "source": []
  },
  {
   "cell_type": "code",
   "execution_count": null,
   "id": "assumed-thesaurus",
   "metadata": {},
   "outputs": [],
   "source": []
  }
 ],
 "metadata": {
  "kernelspec": {
   "display_name": "Python 3",
   "language": "python",
   "name": "python3"
  },
  "language_info": {
   "codemirror_mode": {
    "name": "ipython",
    "version": 3
   },
   "file_extension": ".py",
   "mimetype": "text/x-python",
   "name": "python",
   "nbconvert_exporter": "python",
   "pygments_lexer": "ipython3",
   "version": "3.8.8"
  }
 },
 "nbformat": 4,
 "nbformat_minor": 5
}
