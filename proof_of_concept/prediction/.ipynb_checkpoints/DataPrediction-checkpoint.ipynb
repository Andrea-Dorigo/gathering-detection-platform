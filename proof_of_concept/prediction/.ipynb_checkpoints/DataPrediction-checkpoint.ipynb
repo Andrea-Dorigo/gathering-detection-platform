{
 "cells": [
  {
   "cell_type": "code",
   "execution_count": 151,
   "id": "adolescent-columbia",
   "metadata": {},
   "outputs": [],
   "source": [
    "from mongoengine import *\n",
    "import numpy as np\n",
    "import datetime \n",
    "import pandas\n",
    "import matplotlib.pyplot as plt\n",
    "from sklearn import *"
   ]
  },
  {
   "cell_type": "code",
   "execution_count": 152,
   "id": "forty-plastic",
   "metadata": {},
   "outputs": [],
   "source": [
    "connect(\"GDP-test\", host = \"localhost\", port = 27017)\n",
    "class Detection(Document):\n",
    "    id_webcam = IntField(required=True)\n",
    "    city = StringField(required=True)\n",
    "    location = StringField(required=True)\n",
    "    latitude = FloatField(required=True)\n",
    "    longitude = FloatField(required=True)\n",
    "    numPeople = IntField(required=True)\n",
    "    date = DateTimeField(required=True)\n",
    "    time = DateTimeField(required=True)\n",
    "    type = IntField(required=True)\n",
    "    weather_description = StringField()\n",
    "    temperature = FloatField()\n",
    "    day_of_week = IntField()"
   ]
  },
  {
   "cell_type": "code",
   "execution_count": 199,
   "id": "signal-manor",
   "metadata": {},
   "outputs": [
    {
     "name": "stdout",
     "output_type": "stream",
     "text": [
      "['Roma', 'Novska', 'Djakovo', 'Krk']\n"
     ]
    }
   ],
   "source": [
    "print(Detection.objects.distinct('city')) # vedere se posso prendere solo le città per poi fare query distinte\n",
    "table = pandas.DataFrame(Detection.objects(city='Roma').as_pymongo()) #prelevo i dati di roma\n",
    "table = table.drop(columns = ['_id','id_webcam','city','date','type','location','latitude','longitude']) #tolgo colonne inutili\n",
    "table['time'] = table['time'].dt.strftime('%H').astype(int)#modifico le colonne con i valori che mi servono\n",
    "table['weather_description'] = pandas.get_dummies(table['weather_description']) #il weather viene convertito con parametri interi\n",
    "\n",
    "#divide the dataframe 70-30 for train and test\n",
    "x_train, x_test, y_train, y_test = sklearn.model_selection.train_test_split(\n",
    "    table[['time','temperature','day_of_week','weather_description']], \n",
    "    table['numPeople'], \n",
    "    test_size = 0.33, shuffle = True, random_state= 42)\n"
   ]
  },
  {
   "cell_type": "code",
   "execution_count": 200,
   "id": "wicked-organ",
   "metadata": {},
   "outputs": [
    {
     "name": "stdout",
     "output_type": "stream",
     "text": [
      "Coefficients: \n",
      " [-0.0417654   0.94917226 -0.39676953  0.82073259]\n",
      "Residual sum of squares: 8.27\n",
      "Variance score: 0.57\n"
     ]
    }
   ],
   "source": [
    "model = sklearn.linear_model.LinearRegression()\n",
    "#provo a dargli in pasto tutto\n",
    "#prima di questo ora bisogna dividere tutto il dataset in 70-30\n",
    "model.fit(x_train, y_train)\n",
    "\n",
    "\n",
    "# The coefficients\n",
    "print('Coefficients: \\n', model.coef_)\n",
    "\n",
    "# The mean square error\n",
    "print(\"Residual sum of squares: %.2f\" % np.mean((model.predict(x_test) - y_test) ** 2))\n",
    "\n",
    "# Explained variance score: 1 is perfect prediction\n",
    "print('Variance score: %.2f' % model.score(x_test, y_test))\n",
    "\n"
   ]
  },
  {
   "cell_type": "code",
   "execution_count": 87,
   "id": "occasional-interest",
   "metadata": {},
   "outputs": [],
   "source": [
    "\n",
    "#robe vecchie sbagliate non guardare\n",
    "\n",
    "time, temperature, weather, numP = table['time'].dt.strftime('%H').astype(int),table['temperature'],table['weather_description'],table['numPeople']\n",
    "time = np.asarray(time)\n",
    "temperature = np.asarray(temperature)\n",
    "weather = np.asarray(weather)\n",
    "numP = np.asarray(numP)\n",
    "weatherDict = {'clear sky':0}"
   ]
  },
  {
   "cell_type": "code",
   "execution_count": 60,
   "id": "pregnant-finger",
   "metadata": {},
   "outputs": [],
   "source": [
    "for i in range(weather.size):\n",
    "    weather[i] = weatherDict[weather[i]]"
   ]
  },
  {
   "cell_type": "code",
   "execution_count": 61,
   "id": "pacific-sessions",
   "metadata": {},
   "outputs": [
    {
     "name": "stdout",
     "output_type": "stream",
     "text": [
      "[[11 13.48 0]\n",
      " [11 13.47 0]\n",
      " [11 13.47 0]\n",
      " [11 13.47 0]\n",
      " [11 13.47 0]\n",
      " [11 13.47 0]\n",
      " [11 13.47 0]\n",
      " [11 13.47 0]]\n"
     ]
    },
    {
     "data": {
      "text/plain": [
       "LinearRegression()"
      ]
     },
     "execution_count": 61,
     "metadata": {},
     "output_type": "execute_result"
    }
   ],
   "source": [
    "temperature = temperature.reshape(-1,1)\n",
    "time = time.reshape(-1,1)\n",
    "weather = weather.reshape(-1,1)\n",
    "timeTemp = np.concatenate((time,temperature,weather),axis = 1)\n",
    "print(timeTemp)\n",
    "model = sklearn.linear_model.LinearRegression()\n",
    "model.fit(timeTemp,numP) "
   ]
  }
 ],
 "metadata": {
  "kernelspec": {
   "display_name": "Python 3",
   "language": "python",
   "name": "python3"
  },
  "language_info": {
   "codemirror_mode": {
    "name": "ipython",
    "version": 3
   },
   "file_extension": ".py",
   "mimetype": "text/x-python",
   "name": "python",
   "nbconvert_exporter": "python",
   "pygments_lexer": "ipython3",
   "version": "3.8.8"
  }
 },
 "nbformat": 4,
 "nbformat_minor": 5
}
